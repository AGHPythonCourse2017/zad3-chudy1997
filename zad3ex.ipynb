{
 "cells": [
  {
   "cell_type": "code",
   "execution_count": null,
   "metadata": {
    "collapsed": false,
    "scrolled": true
   },
   "outputs": [],
   "source": [
    "!pip install git+https://github.com/AGHPythonCourse2017/zad3-chudy1997.git\n",
    "from song_singer.main import check"
   ]
  },
  {
   "cell_type": "code",
   "execution_count": null,
   "metadata": {
    "collapsed": false
   },
   "outputs": [],
   "source": [
    "check('Leonard Cohen : Hallelujah')\n",
    "check('John Lennon : Hallelujah')\n",
    "check('Metallica: One')\n",
    "check('Ariana Grande : One')\n",
    "check('Adele : Hello')\n",
    "check('Linkin Park : Hello')\n",
    "check('John Lennon : Imagine')"
   ]
  }
 ],
 "metadata": {
  "kernelspec": {
   "display_name": "Python 3",
   "language": "python",
   "name": "python3"
  },
  "language_info": {
   "codemirror_mode": {
    "name": "ipython",
    "version": 3
   },
   "file_extension": ".py",
   "mimetype": "text/x-python",
   "name": "python",
   "nbconvert_exporter": "python",
   "pygments_lexer": "ipython3",
   "version": "3.6.0"
  }
 },
 "nbformat": 4,
 "nbformat_minor": 2
}
